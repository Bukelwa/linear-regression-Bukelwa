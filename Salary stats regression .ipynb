{
 "cells": [
  {
   "cell_type": "code",
   "execution_count": 11,
   "metadata": {},
   "outputs": [
    {
     "data": {
      "text/html": [
       "<div>\n",
       "<style scoped>\n",
       "    .dataframe tbody tr th:only-of-type {\n",
       "        vertical-align: middle;\n",
       "    }\n",
       "\n",
       "    .dataframe tbody tr th {\n",
       "        vertical-align: top;\n",
       "    }\n",
       "\n",
       "    .dataframe thead th {\n",
       "        text-align: right;\n",
       "    }\n",
       "</style>\n",
       "<table border=\"1\" class=\"dataframe\">\n",
       "  <thead>\n",
       "    <tr style=\"text-align: right;\">\n",
       "      <th></th>\n",
       "      <th>salary</th>\n",
       "      <th>exprior</th>\n",
       "      <th>yearsworked</th>\n",
       "      <th>yearsrank</th>\n",
       "      <th>market</th>\n",
       "      <th>degree</th>\n",
       "      <th>otherqual</th>\n",
       "      <th>position</th>\n",
       "      <th>male</th>\n",
       "      <th>Field</th>\n",
       "      <th>yearsabs</th>\n",
       "    </tr>\n",
       "  </thead>\n",
       "  <tbody>\n",
       "    <tr>\n",
       "      <th>count</th>\n",
       "      <td>513.000000</td>\n",
       "      <td>513.000000</td>\n",
       "      <td>513.000000</td>\n",
       "      <td>513.000000</td>\n",
       "      <td>513.000000</td>\n",
       "      <td>513.000000</td>\n",
       "      <td>513.000000</td>\n",
       "      <td>513.000000</td>\n",
       "      <td>513.000000</td>\n",
       "      <td>513.000000</td>\n",
       "      <td>513.000000</td>\n",
       "    </tr>\n",
       "    <tr>\n",
       "      <th>mean</th>\n",
       "      <td>50863.220098</td>\n",
       "      <td>2.931774</td>\n",
       "      <td>12.836257</td>\n",
       "      <td>7.046784</td>\n",
       "      <td>0.948558</td>\n",
       "      <td>0.964912</td>\n",
       "      <td>0.044834</td>\n",
       "      <td>2.130604</td>\n",
       "      <td>0.750487</td>\n",
       "      <td>2.526316</td>\n",
       "      <td>6.994152</td>\n",
       "    </tr>\n",
       "    <tr>\n",
       "      <th>std</th>\n",
       "      <td>12685.132358</td>\n",
       "      <td>4.794327</td>\n",
       "      <td>9.447040</td>\n",
       "      <td>6.419708</td>\n",
       "      <td>0.149524</td>\n",
       "      <td>0.184181</td>\n",
       "      <td>0.207142</td>\n",
       "      <td>0.819977</td>\n",
       "      <td>0.433153</td>\n",
       "      <td>1.126644</td>\n",
       "      <td>16.887552</td>\n",
       "    </tr>\n",
       "    <tr>\n",
       "      <th>min</th>\n",
       "      <td>29000.000000</td>\n",
       "      <td>0.000000</td>\n",
       "      <td>0.000000</td>\n",
       "      <td>0.000000</td>\n",
       "      <td>0.710000</td>\n",
       "      <td>0.000000</td>\n",
       "      <td>0.000000</td>\n",
       "      <td>1.000000</td>\n",
       "      <td>0.000000</td>\n",
       "      <td>1.000000</td>\n",
       "      <td>0.000000</td>\n",
       "    </tr>\n",
       "    <tr>\n",
       "      <th>25%</th>\n",
       "      <td>40000.000000</td>\n",
       "      <td>0.000000</td>\n",
       "      <td>4.000000</td>\n",
       "      <td>2.000000</td>\n",
       "      <td>0.840000</td>\n",
       "      <td>1.000000</td>\n",
       "      <td>0.000000</td>\n",
       "      <td>1.000000</td>\n",
       "      <td>1.000000</td>\n",
       "      <td>2.000000</td>\n",
       "      <td>0.000000</td>\n",
       "    </tr>\n",
       "    <tr>\n",
       "      <th>50%</th>\n",
       "      <td>50096.000000</td>\n",
       "      <td>1.000000</td>\n",
       "      <td>12.000000</td>\n",
       "      <td>5.000000</td>\n",
       "      <td>0.920000</td>\n",
       "      <td>1.000000</td>\n",
       "      <td>0.000000</td>\n",
       "      <td>2.000000</td>\n",
       "      <td>1.000000</td>\n",
       "      <td>3.000000</td>\n",
       "      <td>1.000000</td>\n",
       "    </tr>\n",
       "    <tr>\n",
       "      <th>75%</th>\n",
       "      <td>60345.000000</td>\n",
       "      <td>4.000000</td>\n",
       "      <td>22.000000</td>\n",
       "      <td>12.000000</td>\n",
       "      <td>1.020000</td>\n",
       "      <td>1.000000</td>\n",
       "      <td>0.000000</td>\n",
       "      <td>3.000000</td>\n",
       "      <td>1.000000</td>\n",
       "      <td>4.000000</td>\n",
       "      <td>2.000000</td>\n",
       "    </tr>\n",
       "    <tr>\n",
       "      <th>max</th>\n",
       "      <td>96156.000000</td>\n",
       "      <td>25.000000</td>\n",
       "      <td>41.000000</td>\n",
       "      <td>28.000000</td>\n",
       "      <td>1.330000</td>\n",
       "      <td>1.000000</td>\n",
       "      <td>1.000000</td>\n",
       "      <td>3.000000</td>\n",
       "      <td>1.000000</td>\n",
       "      <td>4.000000</td>\n",
       "      <td>118.000000</td>\n",
       "    </tr>\n",
       "  </tbody>\n",
       "</table>\n",
       "</div>"
      ],
      "text/plain": [
       "             salary     exprior  yearsworked   yearsrank      market  \\\n",
       "count    513.000000  513.000000   513.000000  513.000000  513.000000   \n",
       "mean   50863.220098    2.931774    12.836257    7.046784    0.948558   \n",
       "std    12685.132358    4.794327     9.447040    6.419708    0.149524   \n",
       "min    29000.000000    0.000000     0.000000    0.000000    0.710000   \n",
       "25%    40000.000000    0.000000     4.000000    2.000000    0.840000   \n",
       "50%    50096.000000    1.000000    12.000000    5.000000    0.920000   \n",
       "75%    60345.000000    4.000000    22.000000   12.000000    1.020000   \n",
       "max    96156.000000   25.000000    41.000000   28.000000    1.330000   \n",
       "\n",
       "           degree   otherqual    position        male       Field    yearsabs  \n",
       "count  513.000000  513.000000  513.000000  513.000000  513.000000  513.000000  \n",
       "mean     0.964912    0.044834    2.130604    0.750487    2.526316    6.994152  \n",
       "std      0.184181    0.207142    0.819977    0.433153    1.126644   16.887552  \n",
       "min      0.000000    0.000000    1.000000    0.000000    1.000000    0.000000  \n",
       "25%      1.000000    0.000000    1.000000    1.000000    2.000000    0.000000  \n",
       "50%      1.000000    0.000000    2.000000    1.000000    3.000000    1.000000  \n",
       "75%      1.000000    0.000000    3.000000    1.000000    4.000000    2.000000  \n",
       "max      1.000000    1.000000    3.000000    1.000000    4.000000  118.000000  "
      ]
     },
     "execution_count": 11,
     "metadata": {},
     "output_type": "execute_result"
    }
   ],
   "source": [
    "import pandas as pd\n",
    "import matplotlib.pyplot as plt\n",
    "import numpy as np\n",
    "import scipy.stats as stats\n",
    "\n",
    "# \n",
    "file = pd.read_csv('salary.csv')\n",
    "file = file.dropna()\n",
    "file.describe()"
   ]
  },
  {
   "cell_type": "markdown",
   "metadata": {},
   "source": [
    "This is the descriptive stats bla bla bla"
   ]
  },
  {
   "cell_type": "markdown",
   "metadata": {},
   "source": [
    "## (a) Run a simple linear regression for Salary with one predictor variable: Years Worked\n",
    "\n",
    "**(i)\tWhat percentage of the variance in employees’ salaries is accounted for by the number of years they have worked?**\n",
    "\n",
    "What is the p-value? It is not shown in the report"
   ]
  },
  {
   "cell_type": "code",
   "execution_count": 8,
   "metadata": {},
   "outputs": [
    {
     "name": "stdout",
     "output_type": "stream",
     "text": [
      "percentage variance in salary predicted by variance in years worked = 38.88630734995994\n",
      "correlation coefficient = 0.6235888657598044\n"
     ]
    }
   ],
   "source": [
    "# calculate Pearson's correlation coefficient \n",
    "x = file['yearsworked']\n",
    "y= file['salary']\n",
    "slope, intercept, r, p, std_err = stats.linregress(x,y)\n",
    "std = np.std(y) #why is this here - please comment\n",
    "louise = r**2 * 100 #coefficient of determination\n",
    "print(\"percentage variance in salary predicted by variance in years worked = \" + str(louise))\n",
    "print(\"correlation coefficient = \" + str(r))\n",
    "\n",
    "# What is the output below? what does it mean? How do you interepret it? \n",
    "# Write this up as a report, for someone who doesn't know the data or the specific procedures"
   ]
  },
  {
   "cell_type": "markdown",
   "metadata": {},
   "source": [
    "## (ii) Does the model significantly predict the dependent variable? Report the amount of variance explained (R2) and significance value (p) to support your answer."
   ]
  },
  {
   "cell_type": "markdown",
   "metadata": {},
   "source": [
    "##### - yes it does, because our p-value is well-below our significance threshold of 0.05 . Meaning our coefficient of determination (0.3886307) is most likely to be correct.  \n",
    "\n",
    "# We can never know the correctness, so rather say that there is a relationship between Years Worked and Salary"
   ]
  },
  {
   "cell_type": "markdown",
   "metadata": {},
   "source": [
    "## iii)\tReport and interpret the standard error of the estimate. (Hint: Compare the standard error of the estimate to the standard deviation for Salary, which you would have calculated in Question 1.a))"
   ]
  },
  {
   "cell_type": "code",
   "execution_count": 3,
   "metadata": {},
   "outputs": [
    {
     "name": "stdout",
     "output_type": "stream",
     "text": [
      "std : 12672.762650138267\n",
      "std_err : 46.43634621012888\n"
     ]
    }
   ],
   "source": [
    "print('std :',std)\n",
    "print('std_err :',std_err)"
   ]
  },
  {
   "cell_type": "markdown",
   "metadata": {},
   "source": [
    "#####  the avarage difference of the predicted amounts to the actual amount in the \"yearsworked\" and ''salary'' is 46.44 .\n",
    "\n",
    "The SEE is an indication of accuracy, as it is the standard deviation of the residuals.  So rather the accuracy of predicting salary by using Years Worked is much better than the accuracy of predicting salary purely based on mean salary. \n",
    "\n",
    "It's easy to speak colloquially about average difference, but really it is the the square root of the average squared difference between predicted and observed salary. That's a more accurate way to put it.\n",
    "\n",
    "Spell check and no bold for normal text please. "
   ]
  },
  {
   "cell_type": "markdown",
   "metadata": {},
   "source": [
    "# b)\tExamine the output from the Coefficients table:"
   ]
  },
  {
   "cell_type": "markdown",
   "metadata": {},
   "source": [
    "## (i)\tWhat does the unstandardized coefficient (B) tell you about the relationship between Years Worked and Salary?"
   ]
  },
  {
   "cell_type": "code",
   "execution_count": 4,
   "metadata": {},
   "outputs": [
    {
     "name": "stdout",
     "output_type": "stream",
     "text": [
      "Years Worked: 0 | Predicted Salary = 40115.0137875915 | Difference = 40115.0137875915\n",
      "Years Worked: 1 | Predicted Salary = 40952.34557759235 | Difference = 837.3317900008478\n",
      "Years Worked: 2 | Predicted Salary = 41789.67736759319 | Difference = 837.3317900008406\n",
      "Years Worked: 3 | Predicted Salary = 42627.00915759404 | Difference = 837.3317900008478\n",
      "Years Worked: 4 | Predicted Salary = 43464.34094759488 | Difference = 837.3317900008406\n",
      "Years Worked: 5 | Predicted Salary = 44301.67273759573 | Difference = 837.3317900008478\n"
     ]
    }
   ],
   "source": [
    "sample = pd.DataFrame(file[\"yearsworked\"]).sort_values('yearsworked').reset_index()\n",
    "sample = sample.loc[[6,44, 50, 100, 130, 150]]\n",
    "predicted_salary = 0\n",
    "\n",
    "def predict_salary(yearsworked):\n",
    "    return slope * year + intercept\n",
    "\n",
    "for year in sample.yearsworked:\n",
    "    last_salary = predicted_salary\n",
    "    predicted_salary = slope * year + intercept\n",
    "    difference = predicted_salary - last_salary\n",
    "    print(\"Years Worked: \" + str(year) + \" | Predicted Salary = \" + str(predicted_salary) + \" | Difference = \" + str(difference))"
   ]
  },
  {
   "cell_type": "markdown",
   "metadata": {},
   "source": [
    "##### It tells us that for every ADDITIONAL year worked an employee earns R837 more per annum. \n",
    "and what are the b and beta vlaues> it is not shown in the report"
   ]
  },
  {
   "cell_type": "markdown",
   "metadata": {},
   "source": [
    "## (ii)\tCompare the standardised coefficient (Beta) for Years Worked to the Pearson’s (zero-order) correlation coefficient from question 1.c). What do you notice? Explain why this is so. \n"
   ]
  },
  {
   "cell_type": "code",
   "execution_count": 16,
   "metadata": {},
   "outputs": [
    {
     "name": "stdout",
     "output_type": "stream",
     "text": [
      "3.789040227476409\n",
      "0.6235888657598045\n"
     ]
    }
   ],
   "source": [
    "std_x = np.std(x)\n",
    "std_y = np.std(y)\n",
    "\n",
    "#Beta should be <1 in simple regression\n",
    "\n",
    "predicted_salary_Std = slope * std_x + intercept\n",
    "predicted_salary_Std = predicted_salary_Std / std_y\n",
    "print(predicted_salary_Std) #why is this important? explain\n",
    "print(r)\n",
    "\n",
    "#to get the standardised coefficient, you need to standardise x and y .i.e get zscores and then repeat the regression"
   ]
  },
  {
   "cell_type": "markdown",
   "metadata": {},
   "source": [
    "#### We notice that there is a positive relation between X and Y, because our r value (0.62)  shows that there is a positive relationship between our variables(x(years worked) and y(Salary)) and our Standardised coefficient (Beta) shows that when there is a 1 std increase in the years worked there is an increase of 3.75 std in the Salary earned. \n",
    "-- our standardised coefficient can be larger than 1, but our correlation coefficient cannot be larger than one. "
   ]
  },
  {
   "cell_type": "markdown",
   "metadata": {},
   "source": [
    "## (iii)\tCalculate the expected salary for someone who graduated 12 years ago."
   ]
  },
  {
   "cell_type": "code",
   "execution_count": 20,
   "metadata": {},
   "outputs": [
    {
     "name": "stdout",
     "output_type": "stream",
     "text": [
      "50162.99526760164\n"
     ]
    }
   ],
   "source": [
    "Predicted_salary_12 = slope * 12 + intercept\n",
    "print(Predicted_salary_12 )"
   ]
  },
  {
   "cell_type": "markdown",
   "metadata": {},
   "source": [
    "## (iv)\tCalculate the expected salary for someone who graduated 80 years ago. Are there any problems with this prediction? If so, what are they?"
   ]
  },
  {
   "cell_type": "code",
   "execution_count": 28,
   "metadata": {},
   "outputs": [
    {
     "name": "stdout",
     "output_type": "stream",
     "text": [
      "107101.55698765905\n"
     ]
    }
   ],
   "source": [
    "p80 = slope * 80 + intercept\n",
    "print(p80)"
   ]
  },
  {
   "cell_type": "markdown",
   "metadata": {},
   "source": [
    "* No, there is no problem.\n",
    "\n",
    "#how likely is it that someone who graduated 80 years ago is still alive and working today? They would be over a hundred, at least. Never extrapolate - in other words, don't make guesses based on predictor values outside the range of values you have observed."
   ]
  },
  {
   "cell_type": "markdown",
   "metadata": {},
   "source": [
    "# c)\tWe have only looked at the number of years and employee has worked. What are employee characteristics might influence their salary?\n"
   ]
  },
  {
   "cell_type": "markdown",
   "metadata": {},
   "source": [
    "#### Position, Field of work, gender, level of education, experience prior to current position, market value and years worked at current position could all influence salary."
   ]
  },
  {
   "cell_type": "markdown",
   "metadata": {},
   "source": [
    "Make this report pretty and easily readable. Assignment title and your name at the top and full sentence explanations of the answers.\n",
    "\n",
    "Good work on getting the linear regression, but make sure you know how to get the standardised coefficient"
   ]
  }
 ],
 "metadata": {
  "kernelspec": {
   "display_name": "Python 3",
   "language": "python",
   "name": "python3"
  },
  "language_info": {
   "codemirror_mode": {
    "name": "ipython",
    "version": 3
   },
   "file_extension": ".py",
   "mimetype": "text/x-python",
   "name": "python",
   "nbconvert_exporter": "python",
   "pygments_lexer": "ipython3",
   "version": "3.6.5"
  }
 },
 "nbformat": 4,
 "nbformat_minor": 2
}
